{
 "cells": [
  {
   "cell_type": "code",
   "execution_count": 63,
   "metadata": {},
   "outputs": [
    {
     "name": "stdout",
     "output_type": "stream",
     "text": [
      "Starting 1 iteration of faults. Fault starts at 3230;\n",
      "the engine breaks at 3335 and is repaired at 3412. Fault type was 2\n",
      "Starting 2 iteration of faults. Fault starts at 8249;\n",
      "the engine breaks at 8370 and is repaired at 8456. Fault type was 2\n"
     ]
    }
   ],
   "source": [
    "import os\n",
    "import numpy as np\n",
    "import pandas as pd\n",
    "from random import randint\n",
    "pd.options.display.max_rows = None\n",
    "\n",
    "\n",
    "\n",
    "def fum1(maxPower):\n",
    "    return randint(0,maxPower)\n",
    "def fum2(P, reduce):\n",
    "    return P*reduce\n",
    "def fum3(P, offset):\n",
    "    if(P>offset):\n",
    "        return P-offset\n",
    "    else:\n",
    "        return 0\n",
    "\n",
    "\n",
    "def fu_data(data, failNum=2, minFaulty=3, maxFaulty=7, minBroken=3, maxBroken=5, fum=0, maxPower=7500000, reduce=0.75, offset=10000):\n",
    "    data0=data.copy()\n",
    "    n=failNum\n",
    "    m=0\n",
    "    s=len(data0)/n\n",
    "        \n",
    "    while n>0:\n",
    "        n=n-1\n",
    "        faultyStart=randint(maxFaulty*24+maxBroken*24+m*s,len(data0)-s*n-maxFaulty*24-maxBroken*24)\n",
    "        brokenStart=randint(minFaulty*24,maxFaulty*24)+faultyStart\n",
    "        brokenEnd=randint(minBroken*24,maxBroken*24)+brokenStart\n",
    "        \n",
    "        m=m+1\n",
    "\n",
    "        i=0\n",
    "        if (fum==0):\n",
    "            method=randint(1,3)\n",
    "        else:\n",
    "            method=fum\n",
    "            \n",
    "        print(\"Starting {} iteration of faults. Fault starts at {};\".format(m, faultyStart))\n",
    "        print(\"the engine breaks at {} and is repaired at {}. Fault type was {}\".format(brokenStart, brokenEnd,method))\n",
    "        \n",
    "        for p in data0['output_power']:\n",
    "            i=i+1\n",
    "            if ((i>faultyStart)&(i<brokenStart)):\n",
    "                if method==1:\n",
    "                    data0.iloc[i, data0.columns.get_loc('output_power')] = fum1(maxPower)\n",
    "                    data0.iloc[i, data0.columns.get_loc('state')] = 'f'\n",
    "                elif method==2:\n",
    "                    data0.iloc[i, data0.columns.get_loc('output_power')] = fum2(p,reduce)\n",
    "                    data0.iloc[i, data0.columns.get_loc('state')] = 'f'\n",
    "                elif method==3:\n",
    "                    data0.iloc[i, data0.columns.get_loc('output_power')] = fum4(p, offset)\n",
    "                    data0.iloc[i, data0.columns.get_loc('state')] = 'f'\n",
    "            elif ((i>=brokenStart)&(i<brokenEnd)):\n",
    "                data0.iloc[i, data0.columns.get_loc('output_power')] = 0\n",
    "                data0.iloc[i, data0.columns.get_loc('state')] = 'r'\n",
    "    return data0\n",
    "    \n",
    "    \n",
    "def fault_detected (data, dataR, posDet, repairTime=3):\n",
    "    dataF=data.copy()\n",
    "    gen = (i for i,x in enumerate(dataF['output_power']) if ((i>posDet)&(i<posDet+24*repairTime)))\n",
    "    a=0\n",
    "    for i in gen:\n",
    "        dataF.iloc[i, dataF.columns.get_loc('output_power')] = 0;\n",
    "        dataF.iloc[i, dataF.columns.get_loc('state')] = 'r'\n",
    "    i=0\n",
    "    for s in dataF['state']:\n",
    "        if (i>=posDet+repairTime):\n",
    "            if s != 'w':\n",
    "                dataF.iloc[i, dataF.columns.get_loc('output_power')] = dataR.iloc[i, dataR.columns.get_loc('output_power')]\n",
    "                dataF.iloc[i, dataF.columns.get_loc('state')] = 'w'\n",
    "            else:\n",
    "                return dataF\n",
    "        i=i+1\n",
    "    return dataF\n",
    "\n",
    "\n",
    "\n"
   ]
  },
  {
   "cell_type": "code",
   "execution_count": 3,
   "metadata": {},
   "outputs": [
    {
     "name": "stderr",
     "output_type": "stream",
     "text": [
      "[NbConvertApp] Converting notebook faulty_turbine.ipynb to script\n",
      "[NbConvertApp] Writing 2763 bytes to faulty_turbine.py\n"
     ]
    }
   ],
   "source": [
    "!jupyter nbconvert --to script faulty_turbine.ipynb"
   ]
  }
 ],
 "metadata": {
  "kernelspec": {
   "display_name": "Python 3",
   "language": "python",
   "name": "python3"
  },
  "language_info": {
   "codemirror_mode": {
    "name": "ipython",
    "version": 3
   },
   "file_extension": ".py",
   "mimetype": "text/x-python",
   "name": "python",
   "nbconvert_exporter": "python",
   "pygments_lexer": "ipython3",
   "version": "3.6.5"
  }
 },
 "nbformat": 4,
 "nbformat_minor": 2
}
