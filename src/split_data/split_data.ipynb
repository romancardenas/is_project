{
 "cells": [
  {
   "cell_type": "code",
   "execution_count": 1,
   "metadata": {},
   "outputs": [],
   "source": [
    "import os\n",
    "import pandas as pd\n",
    "pd.options.display.max_rows = None\n",
    "\n",
    "df=pd.read_csv('../../data/input_output_data.csv')\n",
    "df1 = df.iloc[:len(df)//6, :]\n",
    "df2 = df.iloc[len(df)//6:, :]\n",
    "df1.to_csv('data/data_simulation.csv', index=False)\n",
    "df2.to_csv('data/data_training.csv', index=False)\n"
   ]
  },
  {
   "cell_type": "code",
   "execution_count": 4,
   "metadata": {},
   "outputs": [
    {
     "name": "stderr",
     "output_type": "stream",
     "text": [
      "[NbConvertApp] Converting notebook split_data.ipynb to script\n",
      "[NbConvertApp] Writing 309 bytes to split_data.py\n"
     ]
    }
   ],
   "source": [
    "!jupyter nbconvert --to script split_data.ipynb"
   ]
  }
 ],
 "metadata": {
  "kernelspec": {
   "display_name": "Python 3",
   "language": "python",
   "name": "python3"
  },
  "language_info": {
   "codemirror_mode": {
    "name": "ipython",
    "version": 3
   },
   "file_extension": ".py",
   "mimetype": "text/x-python",
   "name": "python",
   "nbconvert_exporter": "python",
   "pygments_lexer": "ipython3",
   "version": "3.6.5"
  }
 },
 "nbformat": 4,
 "nbformat_minor": 2
}
