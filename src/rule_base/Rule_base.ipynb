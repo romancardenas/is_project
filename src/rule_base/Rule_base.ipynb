{
 "cells": [
  {
   "cell_type": "code",
   "execution_count": 1,
   "metadata": {},
   "outputs": [],
   "source": [
    "from pyknow import *\n",
    "\n",
    "prediction = 10.0 # For testing\n",
    "input_dict = {} #Create a empty dict - Run Once\n",
    "exsisting_wt_id = [] # Create an empty list to store the Windturbine ID's - Run Once\n",
    "cnt = False"
   ]
  },
  {
   "cell_type": "code",
   "execution_count": 2,
   "metadata": {},
   "outputs": [],
   "source": [
    "RECEIVED_DATA = {'wind_turbine_4': {'status': 'active',\n",
    "                                    'time': '2010-01-01 00:00:00+01:00',\n",
    "                                    'output_power': 22.0,\n",
    "                                    'wind_speed': 5.326969999999998,\n",
    "                                    'temperature': 267.6,\n",
    "                                    'pressure': 98405.7}}\n",
    "\n",
    "\n",
    "\n",
    "def counting_function(RECEIVED_DATA,cnt):\n",
    "    wind_turbine_id = ''        \n",
    "    \n",
    "    # Getting the key from the data received.\n",
    "    for key in RECEIVED_DATA.keys():\n",
    "        wind_turbine_id = key\n",
    "    \n",
    "    init_ID = [int(s) for s in wind_turbine_id.split('_') if s.isdigit()]\n",
    "    ID_index = int(init_ID[0])\n",
    "    \n",
    "    # Checking if there already is an dict of this ID, if there is,\n",
    "    # Updating output_power, prediction and status.\n",
    "    if wind_turbine_id in exsisting_wt_id:\n",
    "        input_dict[ID_index]['output_power'] = RECEIVED_DATA[wind_turbine_id]['output_power'],\n",
    "        input_dict[ID_index]['prediction']  = prediction,\n",
    "        input_dict[ID_index]['status'] = RECEIVED_DATA[wind_turbine_id]['status']\n",
    "        input_dict[ID_index]['counter'] = RECEIVED_DATA[wind_turbine_id]['counter']\n",
    "        return input_dict\n",
    "        \n",
    "    elif wind_turbine_id not in exsisting_wt_id:\n",
    "        exsisting_wt_id.append(wind_turbine_id)\n",
    "        input_dict[ID_index] = {'output_power': RECEIVED_DATA[wind_turbine_id]['output_power'],\n",
    "                               'prediction': prediction,\n",
    "                               'status' : RECEIVED_DATA[wind_turbine_id]['status'],\n",
    "                               'counter' : 0}\n",
    "        return input_dict\n",
    "    "
   ]
  },
  {
   "cell_type": "code",
   "execution_count": 3,
   "metadata": {},
   "outputs": [],
   "source": [
    "# TODO: Save the counter/per WT\n",
    "# TODO: Tune margins when power_output increase.\n",
    "\n",
    "inputs = counting_function(RECEIVED_DATA,cnt)\n",
    "\n",
    "for key in inputs.keys():\n",
    "    wt_id = key\n",
    "#This is the input for the rules\n",
    "input_data = {'WT_id' : wt_id,\n",
    "              'output_power' : inputs[wt_id]['output_power'],\n",
    "              'prediction' : inputs[wt_id]['prediction'],\n",
    "              'status' : inputs[wt_id]['status'],\n",
    "              'counter' : inputs[wt_id]['counter']\n",
    "             }\n",
    "\n",
    "\n",
    "output_status = {'WT_id' : 0,  'status_out' : 'inactive', 'counter' : 0}\n",
    "\n",
    "\n"
   ]
  },
  {
   "cell_type": "code",
   "execution_count": 4,
   "metadata": {},
   "outputs": [],
   "source": [
    "    class Input(Fact):\n",
    "        pass\n",
    "\n",
    "    class Output(Fact):\n",
    "        def retrieve(self):\n",
    "            return self.as_dict()\n",
    "\n",
    "    class State(Fact):\n",
    "        pass\n",
    "\n",
    "    class Detection(KnowledgeEngine):\n",
    "\n",
    "        def __init__(self):\n",
    "            super().__init__()\n",
    "            self.returnv={}\n",
    "\n",
    "        # Rule for detecting abnormal power production\n",
    "        @Rule(Input(output_power=MATCH.out_p,\n",
    "                    prediction=MATCH.pred,\n",
    "                    WT_id=MATCH.ID,\n",
    "                    counter=MATCH.c),\n",
    "              TEST(lambda out_p, pred: (out_p >= 1.20*pred) or (out_p <= 0.80*pred)),\n",
    "              salience=5)\n",
    "        def bad_state(self,c):\n",
    "            c = 1\n",
    "            self.declare(State(P_prod = False))\n",
    "            self.declare(Output(counter=c))\n",
    "            print(\"Abnormal production!\")\n",
    "\n",
    "        # Rule for detecting normal power production\n",
    "        @Rule(Input(output_power=MATCH.out_p,\n",
    "                    prediction=MATCH.pred,\n",
    "                    WT_id=MATCH.ID),\n",
    "              TEST(lambda out_p, pred: (out_p <= 1.20*pred) and (out_p >= 0.80*pred)),\n",
    "              salience=5)\n",
    "        def good_state(self):\n",
    "            self.declare(State(P_prod = True))\n",
    "            print(\"Normal production!\")\n",
    "\n",
    "        # Rule for checking if wind turbine has been shut down for repair.   \n",
    "        @Rule(AS.f << Input(output_power=MATCH.out_p,\n",
    "                      WT_id=MATCH.ID,\n",
    "                      status=\"inactive\"),\n",
    "              TEST(lambda out_p: out_p == 0.0),\n",
    "              salience=7)\n",
    "        def wt_repair(self,ID,f):\n",
    "            self.retract(f)\n",
    "            self.declare(Output(WT_id = ID, status_out=\"inactive\"))\n",
    "            print(\"Wind turbine \"+str(ID)+\" has been shut down for repair.\")\n",
    "\n",
    "        # Rule for changing state of the wind turbine to inactive.\n",
    "        @Rule(Input(WT_id=MATCH.ID),\n",
    "              State(P_prod=False),\n",
    "              salience=3)\n",
    "        def change_state1(self,ID):\n",
    "            self.declare(Output(WT_id = ID, status_out=\"inactive\" ))\n",
    "            print(\"Wind turbine \"+str(ID)+\" is inactive.\")\n",
    "\n",
    "        # Rule for changing state of the wind turbine to active.\n",
    "        @Rule(Input(WT_id=MATCH.ID),\n",
    "              State(P_prod=True),\n",
    "              salience=3)\n",
    "        def change_state2(self,ID):\n",
    "            self.declare(Output(WT_id = ID, status_out=\"active\" ))\n",
    "            print(\"Wind turbine \"+str(ID)+\" is active.\")\n",
    "\n",
    "        @Rule(AS.out << Output(),              \n",
    "              salience=0)\n",
    "        def _returnstate(self,out):\n",
    "            self.returnv.update(**out.retrieve())\n",
    "            #print(\"Status for Wind Turbine: \" +str(out.retrieve()))\n",
    "\n",
    "        def get_return(self,key):\n",
    "            return self.returnv.get(key)\n",
    "\n",
    "    #def set_return(self,returnv):\n",
    "     #   self.returnvaluedict = returnv"
   ]
  },
  {
   "cell_type": "code",
   "execution_count": 5,
   "metadata": {},
   "outputs": [
    {
     "name": "stdout",
     "output_type": "stream",
     "text": [
      "Abnormal production!\n",
      "Wind turbine 4 is inactive.\n"
     ]
    }
   ],
   "source": [
    "wt = Detection()\n",
    "wt.reset()\n",
    "wt.declare(Input(**input_data)) \n",
    "wt.returnv={}\n",
    "wt.run()"
   ]
  },
  {
   "cell_type": "code",
   "execution_count": 6,
   "metadata": {},
   "outputs": [],
   "source": [
    "output_status.update([(key, wt.returnv[key]) for key in wt.returnv.keys()])\n",
    "Wind_turbine_status = output_status"
   ]
  },
  {
   "cell_type": "code",
   "execution_count": 7,
   "metadata": {},
   "outputs": [],
   "source": [
    "    \n",
    "\n",
    "\n",
    "#TODO: Return the counter value!"
   ]
  }
 ],
 "metadata": {
  "kernelspec": {
   "display_name": "Python 3",
   "language": "python",
   "name": "python3"
  },
  "language_info": {
   "codemirror_mode": {
    "name": "ipython",
    "version": 3
   },
   "file_extension": ".py",
   "mimetype": "text/x-python",
   "name": "python",
   "nbconvert_exporter": "python",
   "pygments_lexer": "ipython3",
   "version": "3.6.5"
  }
 },
 "nbformat": 4,
 "nbformat_minor": 2
}
